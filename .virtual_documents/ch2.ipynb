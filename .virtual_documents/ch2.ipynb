import altair as alt
import pandas as pd
import polars as pl


def download_tzdata_windows(
    base_dir=None,
    year=2022,
    name="tzdata"
):
    import os
    import tarfile
    import urllib3

    http = urllib3.PoolManager()
    folder = base_dir if base_dir else os.path.join(os.path.expanduser('~'), "Downloads")
    tz_path = os.path.join(folder, "tzdata.tar.gz")

    with open(tz_path, "wb") as f:
        f.write(http.request('GET', f'https://data.iana.org/time-zones/releases/tzdata{year}f.tar.gz').data)

    folder = os.path.join(folder, name)

    if not os.path.exists(folder):
        os.makedirs(folder)

    tarfile.open(tz_path).extractall(folder)

    with open(os.path.join(folder, "windowsZones.xml"), "wb") as f:
        f.write(http.request('GET', f'https://raw.githubusercontent.com/unicode-org/cldr/master/common/supplemental/windowsZones.xml').data)
download_tzdata_windows(year=2022)


download_tzdata_windows()


df_pl = pl.read_csv(
    "./On_Time_Reporting_Carrier_On_Time_Performance_(1987_present)_2022_1.csv",
    schema_overrides=(
        {col_name: pl.Categorical for col_name in [
            "Dest", "Tail_Number", "IATA_CODE_Reporting_Airline", "CancellationCode"
        ]}
        | {"FlightDate": pl.Date}
        | {col_name: pl.Utf8 for col_name in [
            "DepTime", "ArrTime", "CRSArrTime", "CRSDepTime"
        ]}
    ),
    null_values="",
)
print(df_pl.shape)
df_pl.sample(10)


df_pd = pd.read_csv(
    "./On_Time_Reporting_Carrier_On_Time_Performance_(1987_present)_2022_1.csv",
    dtype=(
        {col_name: pd.CategoricalDtype() for col_name in [
            "Dest", "Tail_Number", "IATA_CODE_Reporting_Airline", "CancellationCode"
        ]}
        | {col_name: pd.StringDtype() for col_name in [
            "DepTime", "ArrTime", "CRSArrTime", "CRSDepTime"
        ]}
    ),
    na_values="",
)
print(df_pd.shape)
df_pd.sample(10)


get_ipython().run_cell_magic("timeit", "", """
(
    df_pl
    .select([
        pl.col(column_name).str.split(",").list.get(0)
        for column_name in ["OriginCityName", "DestCityName"]
    ])
    .sample(10)
)""")


(
    df_pl
    .select([
        pl.col(column_name).str.split(",").list.get(0)
        for column_name in ["OriginCityName", "DestCityName"]
    ])
    .sample(10)
)


get_ipython().run_cell_magic("timeit", "", """
(
    df_pd
    .assign(**{
        col: lambda df: df[col].str.split(",", regex=False).str[0]
        for col in ["OriginCityName", "DestCityName"]
    })
    .loc[:, ["OriginCityName", "DestCityName"]]
    .sample(10)
)""")


(
    df_pd
    .assign(**{
        col: lambda df: df[col].str.split(",", regex=False).str[0]
        for col in ["OriginCityName", "DestCityName"]
    })
    .loc[:, ["OriginCityName", "DestCityName"]]
    .sample(10)
)


def extract_city_name_pl() -> pl.Expr:
    """Chicago, IL -> Chigaco for OriginCityName and DestCityName"""
    cols = ["OriginCityName", "DestCityName"]

    return pl.col(cols).str.split(",").list.get(0)


def extract_city_name_pd(df: pd.DataFrame) -> pd.DataFrame:
    """Chicago, IL -> Chigaco for OriginCityName and DestCityName"""
    return df.assign(**{
        col: lambda df_: (
            df_[col].str.split(",", regex=False).map(lambda lst: lst[0])
        )
        for col in ["OriginCityName", "DestCityName"]
    })


(
    df_pl
    .select("FlightDate", *[
        pl.when(pl.col(col_name) == "2400")
        .then(pl.lit("0000"))
        .otherwise(pl.col(col_name))
        .str.strptime(pl.Time, "%H%M")
        .alias(col_name)
        for col_name
        in ["DepTime", "ArrTime", "CRSArrTime", "CRSDepTime"]
    ])
)


def time_col_pl(col_name: str) -> pl.Expr:
    """Convert to string time to pl.Time"""
    return (
        pl.when(pl.col(col_name) == "2400")
        .then(pl.lit("0000"))
        .otherwise(pl.col(col_name))
        .str.strptime(pl.Time, "%H%M")
        .alias(col_name)
    )

(
    df_pl
    .select(*[
        pl.col("FlightDate")
        .dt.combine(time_col_pl(col_name))
        .alias(col_name)
        for col_name in ["DepTime", "ArrTime", "CRSArrTime", "CRSDepTime"]
    ])
)


(
    df_pd
    .assign(**{
        col_name: lambda df: (
            pd.to_datetime(
                df["FlightDate"]
                + " "
                + df[col_name].replace("2400", "0000").str.slice(0, 2)
                + ":"
                + df[col_name].replace("2400", "0000").str.slice(2, 4),
                errors="coerce",
            )
        )
        for col_name in ["DepTime", "ArrTime", "CRSArrTime", "CRSDepTime"]
    })
    .loc[:, ["FlightDate", "DepTime", "ArrTime", "CRSArrTime", "CRSDepTime"]]
)


def time_col_pd(col_name: str, df: pd.DataFrame) -> pd.Series:
    """Convert to string time to pl.Time"""
    return (
        pd.to_datetime(
            df["FlightDate"]
            + " "
            + df[col_name].replace("2400", "0000").str.slice(0, 2)
            + ":"
            + df[col_name].replace("2400", "0000").str.slice(2, 4),
            errors="coerce",
        )
    )


(
    df_pd
    .assign(**{
        col_name: lambda df: time_col_pd(col_name, df)
        for col_name in ["DepTime", "ArrTime", "CRSArrTime", "CRSDepTime"]
    })
    .loc[:, ["DepTime", "ArrTime", "CRSArrTime", "CRSDepTime"]]
)


category_cols = [
    "Dest",
    "Tail_Number",
    "IATA_CODE_Reporting_Airline",
    "CancellationCode",
]
time_cols = ["DepTime", "ArrTime", "CRSArrTime", "CRSDepTime"]
cols = (
    category_cols
    + time_cols
    + [
        "FlightDate",
        "Flight_Number_Reporting_Airline",
        "OriginCityName",
        "DestCityName",
        "Origin",
        "DepDelay",
    ]
)


def time_to_datetime_pl(columns: list[str]) -> list[pl.Expr]:
    """Combine date and time into datetime dtype."""
    return ([
        pl.col("FlightDate")
        .dt.combine(time_col_pl(col))
        .alias(col)
        for col in columns
    ])


dtypes_pl = (
    {col: pl.Categorical for col in category_cols}
    | {"FlightDate": pl.Date}
    | {col: pl.Utf8 for col in time_cols}
)

df_pl_parsed = (
    pl.scan_csv(
        "./On_Time_Reporting_Carrier_On_Time_Performance_(1987_present)_2022_1.csv",
        schema_overrides=dtypes_pl,
        null_values="",
    )
    .select(cols)
    .with_columns([
        extract_city_name_pl(),
        *time_to_datetime_pl(time_cols)
    ])
)
df_pl_parsed.collect()


def time_to_datetime_pd(df: pd.DataFrame, columns: list[str]) -> pd.DataFrame:
    """Combine time and date into datetime."""
    return df.assign(**{
        col: lambda df_: time_col_pd(col, df_) for col in columns
    })


dtypes_pd = (
    {col: pd.CategoricalDtype() for col in category_cols}
    | {col: pd.StringDtype() for col in time_cols}
)

df_pd_parsed = (
    pd.read_csv(
        "./On_Time_Reporting_Carrier_On_Time_Performance_(1987_present)_2022_1.csv",
        dtype=dtypes_pd,
        usecols=cols,
        na_values="",
    )
    .pipe(extract_city_name_pd)
    .pipe(time_to_datetime_pd, time_cols)
    .assign(FlightDate=lambda df: pd.to_datetime(df["FlightDate"]))
)

df_pd_parsed


get_ipython().run_cell_magic("timeit", "", """
(
    pl.scan_csv(
        "./On_Time_Reporting_Carrier_On_Time_Performance_(1987_present)_2022_1.csv",
        schema_overrides=dtypes_pl,
        null_values="",
    )
    .select(cols)
    .with_columns([
        extract_city_name_pl(),
        *time_to_datetime_pl(time_cols)
    ])
    .collect()
)""")


get_ipython().run_cell_magic("timeit", "", """
(
    pd.read_csv(
        "./On_Time_Reporting_Carrier_On_Time_Performance_(1987_present)_2022_1.csv",
        dtype=dtypes_pd,
        usecols=cols,
        na_values="",
    )
    .pipe(extract_city_name_pd)
    .pipe(time_to_datetime_pd, time_cols)
    .assign(FlightDate=lambda df: pd.to_datetime(df["FlightDate"]))
)""")


df_pl_parsed.select(
    pl.col("IATA_CODE_Reporting_Airline")
    .value_counts(sort=True)
    .struct.field("IATA_CODE_Reporting_Airline")
    .head(5)
).collect()


df_pl_pivot = (
    df_pl_parsed
    .drop_nulls(subset=["DepTime", "IATA_CODE_Reporting_Airline"])
    .filter(
        pl.col("IATA_CODE_Reporting_Airline")
        .is_in(
            pl.col("IATA_CODE_Reporting_Airline")
            .value_counts(sort=True)
            .struct.field("IATA_CODE_Reporting_Airline")
            .head(5)
        )
    )
    .sort("DepTime")
    .group_by_dynamic(
        "DepTime",
        every="1h",
        group_by="IATA_CODE_Reporting_Airline"
    )
    .agg(pl.count("Flight_Number_Reporting_Airline"))
    .collect()
    .pivot(
        index="DepTime",
        on="IATA_CODE_Reporting_Airline",
        values="Flight_Number_Reporting_Airline"
    )
    .sort("DepTime")
    .upsample(time_column="DepTime", every="1h")
    .fill_null(0)
    .select(
        "DepTime",
        pl.col(pl.UInt32).rolling_sum(24)
    )
)
df_pl_pivot


(
    df_pl_pivot.to_pandas()
    .set_index("DepTime")
    .rename_axis("Flights per Day", axis=1)
    .plot()
)


(
    alt.Chart(
        df_pl_pivot
        .unpivot(
            index="DepTime",
            variable_name="IATA_CODE_Reporting_Airline",
            value_name="Flight_Number_Reporting_Airline",
        ),
        height=600,
        width=800,
    )
    .mark_line()
    .encode(
        x="DepTime",
        y="Flight_Number_Reporting_Airline",
        color="IATA_CODE_Reporting_Airline",
    )
)


(
    df_pd_parsed
    .dropna(subset=["DepTime", "IATA_CODE_Reporting_Airline"])
    .loc[
        lambda df: df["IATA_CODE_Reporting_Airline"].isin(
            df["IATA_CODE_Reporting_Airline"].value_counts().index[:5]
        )
    ]
    .assign(
        IATA_CODE_Reporting_Airline=lambda df: (
            df["IATA_CODE_Reporting_Airline"].cat.remove_unused_categories()
        )
    )
    .set_index("DepTime")
    .groupby(
        ["IATA_CODE_Reporting_Airline", pd.Grouper(freq="h")]
    )
    .count()
    .loc[:, "Flight_Number_Reporting_Airline"]
    .unstack(0)
    .fillna(0)
    .rolling(24)
    .sum()
    .rename_axis("Flights per Day", axis=1)
    .plot()
)


df_pl_pivot.plot()
